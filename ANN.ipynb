{
 "cells": [
  {
   "cell_type": "code",
   "execution_count": 10,
   "metadata": {},
   "outputs": [],
   "source": [
    "import matplotlib.pyplot as plt\n",
    "import pandas as pd\n",
    "import numpy as np\n",
    "import seaborn as sns\n",
    "%matplotlib inline"
   ]
  },
  {
   "cell_type": "code",
   "execution_count": 11,
   "metadata": {},
   "outputs": [],
   "source": [
    "data = pd.read_csv(\"BSDS_November.csv\")"
   ]
  },
  {
   "cell_type": "code",
   "execution_count": 12,
   "metadata": {},
   "outputs": [
    {
     "data": {
      "text/html": [
       "<div>\n",
       "<style scoped>\n",
       "    .dataframe tbody tr th:only-of-type {\n",
       "        vertical-align: middle;\n",
       "    }\n",
       "\n",
       "    .dataframe tbody tr th {\n",
       "        vertical-align: top;\n",
       "    }\n",
       "\n",
       "    .dataframe thead th {\n",
       "        text-align: right;\n",
       "    }\n",
       "</style>\n",
       "<table border=\"1\" class=\"dataframe\">\n",
       "  <thead>\n",
       "    <tr style=\"text-align: right;\">\n",
       "      <th></th>\n",
       "      <th>gender</th>\n",
       "      <th>Partner</th>\n",
       "      <th>PhoneService</th>\n",
       "      <th>InternetService</th>\n",
       "      <th>OnlineSecurity</th>\n",
       "      <th>Contract</th>\n",
       "      <th>PaymentMethod</th>\n",
       "      <th>MonthlyCharges</th>\n",
       "      <th>TotalCharges</th>\n",
       "      <th>Churn</th>\n",
       "    </tr>\n",
       "  </thead>\n",
       "  <tbody>\n",
       "    <tr>\n",
       "      <th>71</th>\n",
       "      <td>Female</td>\n",
       "      <td>Yes</td>\n",
       "      <td>No</td>\n",
       "      <td>DSL</td>\n",
       "      <td>Yes</td>\n",
       "      <td>Two year</td>\n",
       "      <td>Credit card (automatic)</td>\n",
       "      <td>56.05</td>\n",
       "      <td></td>\n",
       "      <td>No</td>\n",
       "    </tr>\n",
       "    <tr>\n",
       "      <th>2208</th>\n",
       "      <td>Male</td>\n",
       "      <td>Yes</td>\n",
       "      <td>Yes</td>\n",
       "      <td>No</td>\n",
       "      <td>No internet service</td>\n",
       "      <td>Two year</td>\n",
       "      <td>Mailed check</td>\n",
       "      <td>25.35</td>\n",
       "      <td></td>\n",
       "      <td>No</td>\n",
       "    </tr>\n",
       "    <tr>\n",
       "      <th>2523</th>\n",
       "      <td>Male</td>\n",
       "      <td>Yes</td>\n",
       "      <td>Yes</td>\n",
       "      <td>No</td>\n",
       "      <td>No internet service</td>\n",
       "      <td>One year</td>\n",
       "      <td>Mailed check</td>\n",
       "      <td>19.70</td>\n",
       "      <td></td>\n",
       "      <td>No</td>\n",
       "    </tr>\n",
       "    <tr>\n",
       "      <th>2692</th>\n",
       "      <td>Male</td>\n",
       "      <td>Yes</td>\n",
       "      <td>Yes</td>\n",
       "      <td>No</td>\n",
       "      <td>No internet service</td>\n",
       "      <td>Two year</td>\n",
       "      <td>Mailed check</td>\n",
       "      <td>19.85</td>\n",
       "      <td></td>\n",
       "      <td>No</td>\n",
       "    </tr>\n",
       "    <tr>\n",
       "      <th>3763</th>\n",
       "      <td>Female</td>\n",
       "      <td>Yes</td>\n",
       "      <td>Yes</td>\n",
       "      <td>DSL</td>\n",
       "      <td>Yes</td>\n",
       "      <td>Two year</td>\n",
       "      <td>Mailed check</td>\n",
       "      <td>80.85</td>\n",
       "      <td></td>\n",
       "      <td>No</td>\n",
       "    </tr>\n",
       "    <tr>\n",
       "      <th>4812</th>\n",
       "      <td>Male</td>\n",
       "      <td>No</td>\n",
       "      <td>Yes</td>\n",
       "      <td>No</td>\n",
       "      <td>No internet service</td>\n",
       "      <td>Two year</td>\n",
       "      <td>Mailed check</td>\n",
       "      <td>20.25</td>\n",
       "      <td></td>\n",
       "      <td>No</td>\n",
       "    </tr>\n",
       "    <tr>\n",
       "      <th>4819</th>\n",
       "      <td>Female</td>\n",
       "      <td>Yes</td>\n",
       "      <td>Yes</td>\n",
       "      <td>No</td>\n",
       "      <td>No internet service</td>\n",
       "      <td>Two year</td>\n",
       "      <td>Mailed check</td>\n",
       "      <td>20.00</td>\n",
       "      <td></td>\n",
       "      <td>No</td>\n",
       "    </tr>\n",
       "    <tr>\n",
       "      <th>5132</th>\n",
       "      <td>Female</td>\n",
       "      <td>Yes</td>\n",
       "      <td>No</td>\n",
       "      <td>DSL</td>\n",
       "      <td>Yes</td>\n",
       "      <td>Two year</td>\n",
       "      <td>Bank transfer (automatic)</td>\n",
       "      <td>52.55</td>\n",
       "      <td></td>\n",
       "      <td>No</td>\n",
       "    </tr>\n",
       "    <tr>\n",
       "      <th>5388</th>\n",
       "      <td>Male</td>\n",
       "      <td>Yes</td>\n",
       "      <td>Yes</td>\n",
       "      <td>No</td>\n",
       "      <td>No internet service</td>\n",
       "      <td>Two year</td>\n",
       "      <td>Mailed check</td>\n",
       "      <td>25.75</td>\n",
       "      <td></td>\n",
       "      <td>No</td>\n",
       "    </tr>\n",
       "  </tbody>\n",
       "</table>\n",
       "</div>"
      ],
      "text/plain": [
       "      gender Partner PhoneService InternetService       OnlineSecurity  \\\n",
       "71    Female     Yes           No             DSL                  Yes   \n",
       "2208    Male     Yes          Yes              No  No internet service   \n",
       "2523    Male     Yes          Yes              No  No internet service   \n",
       "2692    Male     Yes          Yes              No  No internet service   \n",
       "3763  Female     Yes          Yes             DSL                  Yes   \n",
       "4812    Male      No          Yes              No  No internet service   \n",
       "4819  Female     Yes          Yes              No  No internet service   \n",
       "5132  Female     Yes           No             DSL                  Yes   \n",
       "5388    Male     Yes          Yes              No  No internet service   \n",
       "\n",
       "      Contract              PaymentMethod  MonthlyCharges TotalCharges Churn  \n",
       "71    Two year    Credit card (automatic)           56.05                 No  \n",
       "2208  Two year               Mailed check           25.35                 No  \n",
       "2523  One year               Mailed check           19.70                 No  \n",
       "2692  Two year               Mailed check           19.85                 No  \n",
       "3763  Two year               Mailed check           80.85                 No  \n",
       "4812  Two year               Mailed check           20.25                 No  \n",
       "4819  Two year               Mailed check           20.00                 No  \n",
       "5132  Two year  Bank transfer (automatic)           52.55                 No  \n",
       "5388  Two year               Mailed check           25.75                 No  "
      ]
     },
     "execution_count": 12,
     "metadata": {},
     "output_type": "execute_result"
    }
   ],
   "source": [
    "data[data['TotalCharges'] == ' ']"
   ]
  },
  {
   "cell_type": "code",
   "execution_count": 13,
   "metadata": {
    "scrolled": true
   },
   "outputs": [
    {
     "data": {
      "text/html": [
       "<div>\n",
       "<style scoped>\n",
       "    .dataframe tbody tr th:only-of-type {\n",
       "        vertical-align: middle;\n",
       "    }\n",
       "\n",
       "    .dataframe tbody tr th {\n",
       "        vertical-align: top;\n",
       "    }\n",
       "\n",
       "    .dataframe thead th {\n",
       "        text-align: right;\n",
       "    }\n",
       "</style>\n",
       "<table border=\"1\" class=\"dataframe\">\n",
       "  <thead>\n",
       "    <tr style=\"text-align: right;\">\n",
       "      <th></th>\n",
       "      <th>gender</th>\n",
       "      <th>Partner</th>\n",
       "      <th>PhoneService</th>\n",
       "      <th>InternetService</th>\n",
       "      <th>OnlineSecurity</th>\n",
       "      <th>Contract</th>\n",
       "      <th>PaymentMethod</th>\n",
       "      <th>MonthlyCharges</th>\n",
       "      <th>TotalCharges</th>\n",
       "      <th>Churn</th>\n",
       "    </tr>\n",
       "  </thead>\n",
       "  <tbody>\n",
       "    <tr>\n",
       "      <th>0</th>\n",
       "      <td>Female</td>\n",
       "      <td>No</td>\n",
       "      <td>No</td>\n",
       "      <td>DSL</td>\n",
       "      <td>Yes</td>\n",
       "      <td>Two year</td>\n",
       "      <td>Mailed check</td>\n",
       "      <td>39.70</td>\n",
       "      <td>692.35</td>\n",
       "      <td>No</td>\n",
       "    </tr>\n",
       "    <tr>\n",
       "      <th>1</th>\n",
       "      <td>Male</td>\n",
       "      <td>No</td>\n",
       "      <td>Yes</td>\n",
       "      <td>DSL</td>\n",
       "      <td>No</td>\n",
       "      <td>Month-to-month</td>\n",
       "      <td>Bank transfer (automatic)</td>\n",
       "      <td>46.05</td>\n",
       "      <td>80.35</td>\n",
       "      <td>Yes</td>\n",
       "    </tr>\n",
       "    <tr>\n",
       "      <th>2</th>\n",
       "      <td>Male</td>\n",
       "      <td>Yes</td>\n",
       "      <td>Yes</td>\n",
       "      <td>Fiber optic</td>\n",
       "      <td>Yes</td>\n",
       "      <td>Month-to-month</td>\n",
       "      <td>Electronic check</td>\n",
       "      <td>91.80</td>\n",
       "      <td>5960.5</td>\n",
       "      <td>No</td>\n",
       "    </tr>\n",
       "    <tr>\n",
       "      <th>3</th>\n",
       "      <td>Male</td>\n",
       "      <td>Yes</td>\n",
       "      <td>Yes</td>\n",
       "      <td>No</td>\n",
       "      <td>No internet service</td>\n",
       "      <td>One year</td>\n",
       "      <td>Credit card (automatic)</td>\n",
       "      <td>19.80</td>\n",
       "      <td>576.65</td>\n",
       "      <td>No</td>\n",
       "    </tr>\n",
       "    <tr>\n",
       "      <th>4</th>\n",
       "      <td>Male</td>\n",
       "      <td>Yes</td>\n",
       "      <td>Yes</td>\n",
       "      <td>Fiber optic</td>\n",
       "      <td>Yes</td>\n",
       "      <td>One year</td>\n",
       "      <td>Bank transfer (automatic)</td>\n",
       "      <td>89.45</td>\n",
       "      <td>5692.65</td>\n",
       "      <td>No</td>\n",
       "    </tr>\n",
       "  </tbody>\n",
       "</table>\n",
       "</div>"
      ],
      "text/plain": [
       "   gender Partner PhoneService InternetService       OnlineSecurity  \\\n",
       "0  Female      No           No             DSL                  Yes   \n",
       "1    Male      No          Yes             DSL                   No   \n",
       "2    Male     Yes          Yes     Fiber optic                  Yes   \n",
       "3    Male     Yes          Yes              No  No internet service   \n",
       "4    Male     Yes          Yes     Fiber optic                  Yes   \n",
       "\n",
       "         Contract              PaymentMethod  MonthlyCharges TotalCharges  \\\n",
       "0        Two year               Mailed check           39.70       692.35   \n",
       "1  Month-to-month  Bank transfer (automatic)           46.05        80.35   \n",
       "2  Month-to-month           Electronic check           91.80       5960.5   \n",
       "3        One year    Credit card (automatic)           19.80       576.65   \n",
       "4        One year  Bank transfer (automatic)           89.45      5692.65   \n",
       "\n",
       "  Churn  \n",
       "0    No  \n",
       "1   Yes  \n",
       "2    No  \n",
       "3    No  \n",
       "4    No  "
      ]
     },
     "execution_count": 13,
     "metadata": {},
     "output_type": "execute_result"
    }
   ],
   "source": [
    "data.head()"
   ]
  },
  {
   "cell_type": "code",
   "execution_count": 14,
   "metadata": {},
   "outputs": [
    {
     "data": {
      "text/plain": [
       "<AxesSubplot:>"
      ]
     },
     "execution_count": 14,
     "metadata": {},
     "output_type": "execute_result"
    },
    {
     "data": {
      "image/png": "[encoded data removed]",
      "text/plain": [
       "<Figure size 1440x1440 with 2 Axes>"
      ]
     },
     "metadata": {
      "needs_background": "light"
     },
     "output_type": "display_data"
    }
   ],
   "source": [
    "plt.figure(figsize=(20,20))\n",
    "churn_corr = data.corr()\n",
    "churn_corr_top = churn_corr.index\n",
    "sns.heatmap(data[churn_corr_top].corr(), annot=True)"
   ]
  },
  {
   "cell_type": "code",
   "execution_count": 20,
   "metadata": {},
   "outputs": [],
   "source": [
    "categorical_features = ['InternetService',  'Contract', 'PaymentMethod', 'OnlineSecurity']\n",
    "numerical_features = ['MonthlyCharges', 'TotalCharges']\n",
    "binary_features = ['gender', 'Partner', 'PhoneService']"
   ]
  },
  {
   "cell_type": "code",
   "execution_count": 21,
   "metadata": {},
   "outputs": [],
   "source": [
    "filt = (data[\"TotalCharges\"] == ' ')\n",
    "#data = data[~filt]\n",
    "\n",
    "median = data.loc[~filt,\"TotalCharges\"].astype('float').median()\n",
    "data.loc[filt, \"TotalCharges\"] = str(median)\n",
    "data[\"TotalCharges\"] = data[\"TotalCharges\"].astype('float')"
   ]
  },
  {
   "cell_type": "code",
   "execution_count": 22,
   "metadata": {},
   "outputs": [
    {
     "data": {
      "text/plain": [
       "array([[<AxesSubplot:title={'center':'MonthlyCharges'}>,\n",
       "        <AxesSubplot:title={'center':'TotalCharges'}>]], dtype=object)"
      ]
     },
     "execution_count": 22,
     "metadata": {},
     "output_type": "execute_result"
    },
    {
     "data": {
      "image/png": "[encoded data removed]",
      "text/plain": [
       "<Figure size 432x288 with 2 Axes>"
      ]
     },
     "metadata": {
      "needs_background": "light"
     },
     "output_type": "display_data"
    }
   ],
   "source": [
    "data[numerical_features].hist()"
   ]
  },
  {
   "cell_type": "code",
   "execution_count": 23,
   "metadata": {},
   "outputs": [],
   "source": [
    "from sklearn.preprocessing import OneHotEncoder, OrdinalEncoder\n",
    "\n",
    "encoder = OneHotEncoder()\n",
    "ordinal_encoder = OrdinalEncoder()\n",
    "\n",
    "cat_features = encoder.fit_transform(data[categorical_features])\n",
    "bin_features = ordinal_encoder.fit_transform(data[binary_features])"
   ]
  },
  {
   "cell_type": "code",
   "execution_count": 24,
   "metadata": {},
   "outputs": [],
   "source": [
    "from sklearn.preprocessing import LabelEncoder\n",
    "\n",
    "encoder = LabelEncoder()\n",
    "labels = encoder.fit_transform(data['Churn'])"
   ]
  },
  {
   "cell_type": "code",
   "execution_count": 25,
   "metadata": {},
   "outputs": [
    {
     "data": {
      "text/plain": [
       "(5423, 18)"
      ]
     },
     "execution_count": 25,
     "metadata": {},
     "output_type": "execute_result"
    }
   ],
   "source": [
    "num_features = data[numerical_features].to_numpy()\n",
    "cat_features = cat_features.toarray()\n",
    "\n",
    "df = np.hstack((cat_features, bin_features, num_features))\n",
    "df.shape"
   ]
  },
  {
   "cell_type": "code",
   "execution_count": 26,
   "metadata": {},
   "outputs": [
    {
     "name": "stdout",
     "output_type": "stream",
     "text": [
      "Positive samples: 1180, Negative samples: 3158\n"
     ]
    }
   ],
   "source": [
    "from sklearn.model_selection import train_test_split\n",
    "\n",
    "X_train, X_test, y_train, y_test = train_test_split(df, labels, train_size=0.8)\n",
    "print(f'Positive samples: {np.sum(y_train)}, Negative samples: {len(y_train)-np.sum(y_train)}')"
   ]
  },
  {
   "cell_type": "code",
   "execution_count": 27,
   "metadata": {},
   "outputs": [],
   "source": [
    "from sklearn.preprocessing import StandardScaler\n",
    "SC = StandardScaler()\n",
    "X_train = SC.fit_transform(X_train)\n",
    "X_test = SC.transform(X_test)"
   ]
  },
  {
   "cell_type": "code",
   "execution_count": 54,
   "metadata": {},
   "outputs": [],
   "source": [
    "import keras\n",
    "from keras.models import Sequential\n",
    "from keras.layers import Dense\n",
    "from keras.layers import LeakyReLU, PReLU, ELU\n",
    "from keras.layers import Dropout"
   ]
  },
  {
   "cell_type": "code",
   "execution_count": 64,
   "metadata": {},
   "outputs": [],
   "source": [
    "model = Sequential()"
   ]
  },
  {
   "cell_type": "code",
   "execution_count": 65,
   "metadata": {},
   "outputs": [],
   "source": [
    "model.add(Dense(6, kernel_initializer = 'he_uniform',activation='relu',input_shape = (18,)))\n",
    "classifier.add(Dropout(0.1))"
   ]
  },
  {
   "cell_type": "code",
   "execution_count": 66,
   "metadata": {},
   "outputs": [],
   "source": [
    "model.add(Dense(6, kernel_initializer = 'he_uniform',activation='relu'))\n",
    "model.add(Dropout(0.1))"
   ]
  },
  {
   "cell_type": "code",
   "execution_count": 67,
   "metadata": {},
   "outputs": [],
   "source": [
    "model.add(Dense(1, kernel_initializer = 'glorot_uniform', activation = 'sigmoid'))"
   ]
  },
  {
   "cell_type": "code",
   "execution_count": 68,
   "metadata": {},
   "outputs": [],
   "source": [
    "model.compile(optimizer='Adamax', loss='binary_crossentropy', metrics=['accuracy'])"
   ]
  },
  {
   "cell_type": "code",
   "execution_count": 72,
   "metadata": {},
   "outputs": [
    {
     "name": "stdout",
     "output_type": "stream",
     "text": [
      "WARNING:tensorflow:From /Users/eliatorre/opt/anaconda3/lib/python3.7/site-packages/keras/backend/tensorflow_backend.py:422: The name tf.global_variables is deprecated. Please use tf.compat.v1.global_variables instead.\n",
      "\n",
      "Train on 2906 samples, validate on 1432 samples\n",
      "Epoch 1/100\n",
      "2906/2906 [==============================] - 0s 146us/step - loss: 0.6109 - accuracy: 0.6545 - val_loss: 0.5469 - val_accuracy: 0.7444\n",
      "Epoch 2/100\n",
      "2906/2906 [==============================] - 0s 86us/step - loss: 0.5131 - accuracy: 0.7381 - val_loss: 0.5199 - val_accuracy: 0.7542\n",
      "Epoch 3/100\n",
      "2906/2906 [==============================] - 0s 90us/step - loss: 0.4881 - accuracy: 0.7512 - val_loss: 0.5048 - val_accuracy: 0.7563\n",
      "Epoch 4/100\n",
      "2906/2906 [==============================] - 0s 102us/step - loss: 0.4741 - accuracy: 0.7543 - val_loss: 0.4963 - val_accuracy: 0.7584\n",
      "Epoch 5/100\n",
      "2906/2906 [==============================] - 0s 83us/step - loss: 0.4611 - accuracy: 0.7646 - val_loss: 0.4927 - val_accuracy: 0.7640\n",
      "Epoch 6/100\n",
      "2906/2906 [==============================] - 0s 85us/step - loss: 0.4605 - accuracy: 0.7688 - val_loss: 0.4866 - val_accuracy: 0.7668\n",
      "Epoch 7/100\n",
      "2906/2906 [==============================] - 0s 81us/step - loss: 0.4578 - accuracy: 0.7712 - val_loss: 0.4843 - val_accuracy: 0.7668\n",
      "Epoch 8/100\n",
      "2906/2906 [==============================] - 0s 88us/step - loss: 0.4519 - accuracy: 0.7725 - val_loss: 0.4815 - val_accuracy: 0.7689\n",
      "Epoch 9/100\n",
      "2906/2906 [==============================] - 0s 87us/step - loss: 0.4459 - accuracy: 0.7774 - val_loss: 0.4791 - val_accuracy: 0.7709\n",
      "Epoch 10/100\n",
      "2906/2906 [==============================] - 0s 85us/step - loss: 0.4438 - accuracy: 0.7691 - val_loss: 0.4779 - val_accuracy: 0.7730\n",
      "Epoch 11/100\n",
      "2906/2906 [==============================] - 0s 87us/step - loss: 0.4419 - accuracy: 0.7774 - val_loss: 0.4766 - val_accuracy: 0.7737\n",
      "Epoch 12/100\n",
      "2906/2906 [==============================] - 0s 86us/step - loss: 0.4441 - accuracy: 0.7725 - val_loss: 0.4754 - val_accuracy: 0.7744\n",
      "Epoch 13/100\n",
      "2906/2906 [==============================] - 0s 82us/step - loss: 0.4443 - accuracy: 0.7805 - val_loss: 0.4737 - val_accuracy: 0.7737\n",
      "Epoch 14/100\n",
      "2906/2906 [==============================] - 0s 86us/step - loss: 0.4363 - accuracy: 0.7784 - val_loss: 0.4729 - val_accuracy: 0.7744\n",
      "Epoch 15/100\n",
      "2906/2906 [==============================] - 0s 83us/step - loss: 0.4401 - accuracy: 0.7791 - val_loss: 0.4716 - val_accuracy: 0.7730\n",
      "Epoch 16/100\n",
      "2906/2906 [==============================] - 0s 87us/step - loss: 0.4436 - accuracy: 0.7770 - val_loss: 0.4701 - val_accuracy: 0.7730\n",
      "Epoch 17/100\n",
      "2906/2906 [==============================] - 0s 96us/step - loss: 0.4363 - accuracy: 0.7839 - val_loss: 0.4698 - val_accuracy: 0.7730\n",
      "Epoch 18/100\n",
      "2906/2906 [==============================] - 0s 84us/step - loss: 0.4401 - accuracy: 0.7774 - val_loss: 0.4682 - val_accuracy: 0.7772\n",
      "Epoch 19/100\n",
      "2906/2906 [==============================] - 0s 94us/step - loss: 0.4373 - accuracy: 0.7760 - val_loss: 0.4678 - val_accuracy: 0.7793\n",
      "Epoch 20/100\n",
      "2906/2906 [==============================] - 0s 87us/step - loss: 0.4370 - accuracy: 0.7818 - val_loss: 0.4667 - val_accuracy: 0.7807\n",
      "Epoch 21/100\n",
      "2906/2906 [==============================] - 0s 97us/step - loss: 0.4321 - accuracy: 0.7853 - val_loss: 0.4654 - val_accuracy: 0.7814\n",
      "Epoch 22/100\n",
      "2906/2906 [==============================] - 0s 86us/step - loss: 0.4374 - accuracy: 0.7811 - val_loss: 0.4644 - val_accuracy: 0.7828\n",
      "Epoch 23/100\n",
      "2906/2906 [==============================] - 0s 88us/step - loss: 0.4318 - accuracy: 0.7818 - val_loss: 0.4649 - val_accuracy: 0.7835\n",
      "Epoch 24/100\n",
      "2906/2906 [==============================] - 0s 91us/step - loss: 0.4331 - accuracy: 0.7880 - val_loss: 0.4627 - val_accuracy: 0.7807\n",
      "Epoch 25/100\n",
      "2906/2906 [==============================] - 0s 103us/step - loss: 0.4293 - accuracy: 0.7866 - val_loss: 0.4632 - val_accuracy: 0.7821\n",
      "Epoch 26/100\n",
      "2906/2906 [==============================] - 0s 89us/step - loss: 0.4308 - accuracy: 0.7904 - val_loss: 0.4627 - val_accuracy: 0.7828\n",
      "Epoch 27/100\n",
      "2906/2906 [==============================] - 0s 86us/step - loss: 0.4262 - accuracy: 0.7887 - val_loss: 0.4622 - val_accuracy: 0.7821\n",
      "Epoch 28/100\n",
      "2906/2906 [==============================] - 0s 89us/step - loss: 0.4285 - accuracy: 0.7873 - val_loss: 0.4619 - val_accuracy: 0.7814\n",
      "Epoch 29/100\n",
      "2906/2906 [==============================] - 0s 88us/step - loss: 0.4312 - accuracy: 0.7866 - val_loss: 0.4606 - val_accuracy: 0.7800\n",
      "Epoch 30/100\n",
      "2906/2906 [==============================] - 0s 91us/step - loss: 0.4283 - accuracy: 0.7863 - val_loss: 0.4603 - val_accuracy: 0.7800\n",
      "Epoch 31/100\n",
      "2906/2906 [==============================] - 0s 101us/step - loss: 0.4293 - accuracy: 0.7918 - val_loss: 0.4593 - val_accuracy: 0.7800\n",
      "Epoch 32/100\n",
      "2906/2906 [==============================] - 0s 93us/step - loss: 0.4251 - accuracy: 0.7894 - val_loss: 0.4594 - val_accuracy: 0.7793\n",
      "Epoch 33/100\n",
      "2906/2906 [==============================] - 0s 87us/step - loss: 0.4267 - accuracy: 0.7860 - val_loss: 0.4585 - val_accuracy: 0.7793\n",
      "Epoch 34/100\n",
      "2906/2906 [==============================] - 0s 89us/step - loss: 0.4265 - accuracy: 0.7928 - val_loss: 0.4588 - val_accuracy: 0.7793\n",
      "Epoch 35/100\n",
      "2906/2906 [==============================] - 0s 99us/step - loss: 0.4296 - accuracy: 0.7908 - val_loss: 0.4588 - val_accuracy: 0.7821\n",
      "Epoch 36/100\n",
      "2906/2906 [==============================] - 0s 93us/step - loss: 0.4250 - accuracy: 0.7901 - val_loss: 0.4588 - val_accuracy: 0.7807\n",
      "Epoch 37/100\n",
      "2906/2906 [==============================] - 0s 92us/step - loss: 0.4221 - accuracy: 0.7932 - val_loss: 0.4583 - val_accuracy: 0.7786\n",
      "Epoch 38/100\n",
      "2906/2906 [==============================] - 0s 107us/step - loss: 0.4292 - accuracy: 0.7915 - val_loss: 0.4577 - val_accuracy: 0.7779\n",
      "Epoch 39/100\n",
      "2906/2906 [==============================] - 0s 104us/step - loss: 0.4255 - accuracy: 0.7959 - val_loss: 0.4574 - val_accuracy: 0.7765\n",
      "Epoch 40/100\n",
      "2906/2906 [==============================] - 0s 99us/step - loss: 0.4267 - accuracy: 0.7918 - val_loss: 0.4573 - val_accuracy: 0.7772\n",
      "Epoch 41/100\n",
      "2906/2906 [==============================] - 0s 98us/step - loss: 0.4283 - accuracy: 0.7891 - val_loss: 0.4569 - val_accuracy: 0.7793\n",
      "Epoch 42/100\n",
      "2906/2906 [==============================] - 0s 109us/step - loss: 0.4220 - accuracy: 0.8001 - val_loss: 0.4562 - val_accuracy: 0.7744\n",
      "Epoch 43/100\n",
      "2906/2906 [==============================] - 0s 99us/step - loss: 0.4236 - accuracy: 0.7928 - val_loss: 0.4565 - val_accuracy: 0.7758\n",
      "Epoch 44/100\n",
      "2906/2906 [==============================] - 0s 96us/step - loss: 0.4247 - accuracy: 0.7928 - val_loss: 0.4570 - val_accuracy: 0.7758\n",
      "Epoch 45/100\n",
      "2906/2906 [==============================] - 0s 96us/step - loss: 0.4208 - accuracy: 0.7970 - val_loss: 0.4561 - val_accuracy: 0.7758\n",
      "Epoch 46/100\n",
      "2906/2906 [==============================] - 0s 94us/step - loss: 0.4268 - accuracy: 0.7866 - val_loss: 0.4568 - val_accuracy: 0.7772\n",
      "Epoch 47/100\n",
      "2906/2906 [==============================] - 0s 96us/step - loss: 0.4237 - accuracy: 0.7956 - val_loss: 0.4553 - val_accuracy: 0.7737\n",
      "Epoch 48/100\n",
      "2906/2906 [==============================] - 0s 101us/step - loss: 0.4219 - accuracy: 0.7956 - val_loss: 0.4567 - val_accuracy: 0.7730\n",
      "Epoch 49/100\n",
      "2906/2906 [==============================] - 0s 94us/step - loss: 0.4221 - accuracy: 0.7901 - val_loss: 0.4562 - val_accuracy: 0.7765\n",
      "Epoch 50/100\n",
      "2906/2906 [==============================] - 0s 97us/step - loss: 0.4213 - accuracy: 0.7973 - val_loss: 0.4561 - val_accuracy: 0.7744\n",
      "Epoch 51/100\n",
      "2906/2906 [==============================] - 0s 98us/step - loss: 0.4246 - accuracy: 0.7918 - val_loss: 0.4565 - val_accuracy: 0.7737\n",
      "Epoch 52/100\n",
      "2906/2906 [==============================] - 0s 92us/step - loss: 0.4208 - accuracy: 0.7970 - val_loss: 0.4565 - val_accuracy: 0.7737\n",
      "Epoch 53/100\n",
      "2906/2906 [==============================] - 0s 95us/step - loss: 0.4191 - accuracy: 0.7963 - val_loss: 0.4565 - val_accuracy: 0.7730\n",
      "Epoch 54/100\n",
      "2906/2906 [==============================] - 0s 100us/step - loss: 0.4204 - accuracy: 0.7956 - val_loss: 0.4554 - val_accuracy: 0.7737\n"
     ]
    },
    {
     "name": "stdout",
     "output_type": "stream",
     "text": [
      "Epoch 55/100\n",
      "2906/2906 [==============================] - 0s 89us/step - loss: 0.4240 - accuracy: 0.7922 - val_loss: 0.4552 - val_accuracy: 0.7737\n",
      "Epoch 56/100\n",
      "2906/2906 [==============================] - 0s 96us/step - loss: 0.4236 - accuracy: 0.7942 - val_loss: 0.4552 - val_accuracy: 0.7758\n",
      "Epoch 57/100\n",
      "2906/2906 [==============================] - 0s 102us/step - loss: 0.4234 - accuracy: 0.7928 - val_loss: 0.4551 - val_accuracy: 0.7737\n",
      "Epoch 58/100\n",
      "2906/2906 [==============================] - 0s 97us/step - loss: 0.4266 - accuracy: 0.7873 - val_loss: 0.4551 - val_accuracy: 0.7737\n",
      "Epoch 59/100\n",
      "2906/2906 [==============================] - 0s 95us/step - loss: 0.4226 - accuracy: 0.7946 - val_loss: 0.4546 - val_accuracy: 0.7744\n",
      "Epoch 60/100\n",
      "2906/2906 [==============================] - 0s 88us/step - loss: 0.4208 - accuracy: 0.7973 - val_loss: 0.4546 - val_accuracy: 0.7751\n",
      "Epoch 61/100\n",
      "2906/2906 [==============================] - 0s 87us/step - loss: 0.4188 - accuracy: 0.7949 - val_loss: 0.4545 - val_accuracy: 0.7737\n",
      "Epoch 62/100\n",
      "2906/2906 [==============================] - 0s 102us/step - loss: 0.4192 - accuracy: 0.7946 - val_loss: 0.4548 - val_accuracy: 0.7744\n",
      "Epoch 63/100\n",
      "2906/2906 [==============================] - 0s 86us/step - loss: 0.4219 - accuracy: 0.7925 - val_loss: 0.4542 - val_accuracy: 0.7737\n",
      "Epoch 64/100\n",
      "2906/2906 [==============================] - 0s 90us/step - loss: 0.4204 - accuracy: 0.7963 - val_loss: 0.4542 - val_accuracy: 0.7730\n",
      "Epoch 65/100\n",
      "2906/2906 [==============================] - 0s 90us/step - loss: 0.4211 - accuracy: 0.7908 - val_loss: 0.4544 - val_accuracy: 0.7716\n",
      "Epoch 66/100\n",
      "2906/2906 [==============================] - 0s 91us/step - loss: 0.4161 - accuracy: 0.7983 - val_loss: 0.4547 - val_accuracy: 0.7716\n",
      "Epoch 67/100\n",
      "2906/2906 [==============================] - 0s 87us/step - loss: 0.4227 - accuracy: 0.7925 - val_loss: 0.4546 - val_accuracy: 0.7730\n",
      "Epoch 68/100\n",
      "2906/2906 [==============================] - 0s 99us/step - loss: 0.4261 - accuracy: 0.7911 - val_loss: 0.4544 - val_accuracy: 0.7723\n",
      "Epoch 69/100\n",
      "2906/2906 [==============================] - 0s 86us/step - loss: 0.4200 - accuracy: 0.7946 - val_loss: 0.4549 - val_accuracy: 0.7730\n",
      "Epoch 70/100\n",
      "2906/2906 [==============================] - 0s 84us/step - loss: 0.4216 - accuracy: 0.7973 - val_loss: 0.4541 - val_accuracy: 0.7744\n",
      "Epoch 71/100\n",
      "2906/2906 [==============================] - 0s 83us/step - loss: 0.4213 - accuracy: 0.7956 - val_loss: 0.4540 - val_accuracy: 0.7709\n",
      "Epoch 72/100\n",
      "2906/2906 [==============================] - 0s 83us/step - loss: 0.4195 - accuracy: 0.7942 - val_loss: 0.4536 - val_accuracy: 0.7730\n",
      "Epoch 73/100\n",
      "2906/2906 [==============================] - 0s 83us/step - loss: 0.4198 - accuracy: 0.7918 - val_loss: 0.4543 - val_accuracy: 0.7723\n",
      "Epoch 74/100\n",
      "2906/2906 [==============================] - 0s 83us/step - loss: 0.4173 - accuracy: 0.7980 - val_loss: 0.4540 - val_accuracy: 0.7723\n",
      "Epoch 75/100\n",
      "2906/2906 [==============================] - 0s 98us/step - loss: 0.4227 - accuracy: 0.7939 - val_loss: 0.4541 - val_accuracy: 0.7730\n",
      "Epoch 76/100\n",
      "2906/2906 [==============================] - 0s 83us/step - loss: 0.4214 - accuracy: 0.7928 - val_loss: 0.4529 - val_accuracy: 0.7723\n",
      "Epoch 77/100\n",
      "2906/2906 [==============================] - 0s 86us/step - loss: 0.4198 - accuracy: 0.7928 - val_loss: 0.4529 - val_accuracy: 0.7737\n",
      "Epoch 78/100\n",
      "2906/2906 [==============================] - 0s 84us/step - loss: 0.4198 - accuracy: 0.7977 - val_loss: 0.4533 - val_accuracy: 0.7737\n",
      "Epoch 79/100\n",
      "2906/2906 [==============================] - 0s 98us/step - loss: 0.4153 - accuracy: 0.7994 - val_loss: 0.4538 - val_accuracy: 0.7730\n",
      "Epoch 80/100\n",
      "2906/2906 [==============================] - 0s 91us/step - loss: 0.4157 - accuracy: 0.7980 - val_loss: 0.4531 - val_accuracy: 0.7765\n",
      "Epoch 81/100\n",
      "2906/2906 [==============================] - 0s 88us/step - loss: 0.4195 - accuracy: 0.7953 - val_loss: 0.4529 - val_accuracy: 0.7751\n",
      "Epoch 82/100\n",
      "2906/2906 [==============================] - 0s 97us/step - loss: 0.4206 - accuracy: 0.7915 - val_loss: 0.4525 - val_accuracy: 0.7723\n",
      "Epoch 83/100\n",
      "2906/2906 [==============================] - 0s 88us/step - loss: 0.4190 - accuracy: 0.7956 - val_loss: 0.4530 - val_accuracy: 0.7751\n",
      "Epoch 84/100\n",
      "2906/2906 [==============================] - 0s 101us/step - loss: 0.4198 - accuracy: 0.7997 - val_loss: 0.4516 - val_accuracy: 0.7751\n",
      "Epoch 85/100\n",
      "2906/2906 [==============================] - 0s 89us/step - loss: 0.4177 - accuracy: 0.7928 - val_loss: 0.4530 - val_accuracy: 0.7723\n",
      "Epoch 86/100\n",
      "2906/2906 [==============================] - 0s 92us/step - loss: 0.4217 - accuracy: 0.7884 - val_loss: 0.4523 - val_accuracy: 0.7765\n",
      "Epoch 87/100\n",
      "2906/2906 [==============================] - 0s 92us/step - loss: 0.4175 - accuracy: 0.7980 - val_loss: 0.4524 - val_accuracy: 0.7744\n",
      "Epoch 88/100\n",
      "2906/2906 [==============================] - 0s 87us/step - loss: 0.4153 - accuracy: 0.7997 - val_loss: 0.4527 - val_accuracy: 0.7709\n",
      "Epoch 89/100\n",
      "2906/2906 [==============================] - 0s 86us/step - loss: 0.4194 - accuracy: 0.7925 - val_loss: 0.4523 - val_accuracy: 0.7744\n",
      "Epoch 90/100\n",
      "2906/2906 [==============================] - 0s 87us/step - loss: 0.4185 - accuracy: 0.7942 - val_loss: 0.4528 - val_accuracy: 0.7737\n",
      "Epoch 91/100\n",
      "2906/2906 [==============================] - 0s 87us/step - loss: 0.4175 - accuracy: 0.8001 - val_loss: 0.4521 - val_accuracy: 0.7730\n",
      "Epoch 92/100\n",
      "2906/2906 [==============================] - 0s 95us/step - loss: 0.4150 - accuracy: 0.8001 - val_loss: 0.4533 - val_accuracy: 0.7709\n",
      "Epoch 93/100\n",
      "2906/2906 [==============================] - 0s 92us/step - loss: 0.4211 - accuracy: 0.7942 - val_loss: 0.4526 - val_accuracy: 0.7737\n",
      "Epoch 94/100\n",
      "2906/2906 [==============================] - 0s 86us/step - loss: 0.4150 - accuracy: 0.7983 - val_loss: 0.4521 - val_accuracy: 0.7730\n",
      "Epoch 95/100\n",
      "2906/2906 [==============================] - 0s 101us/step - loss: 0.4188 - accuracy: 0.7959 - val_loss: 0.4521 - val_accuracy: 0.7716\n",
      "Epoch 96/100\n",
      "2906/2906 [==============================] - 0s 89us/step - loss: 0.4154 - accuracy: 0.7963 - val_loss: 0.4520 - val_accuracy: 0.7737\n",
      "Epoch 97/100\n",
      "2906/2906 [==============================] - 0s 99us/step - loss: 0.4186 - accuracy: 0.7922 - val_loss: 0.4527 - val_accuracy: 0.7723\n",
      "Epoch 98/100\n",
      "2906/2906 [==============================] - 0s 89us/step - loss: 0.4158 - accuracy: 0.7973 - val_loss: 0.4522 - val_accuracy: 0.7723\n",
      "Epoch 99/100\n",
      "2906/2906 [==============================] - 0s 87us/step - loss: 0.4140 - accuracy: 0.7959 - val_loss: 0.4529 - val_accuracy: 0.7730\n",
      "Epoch 100/100\n",
      "2906/2906 [==============================] - 0s 97us/step - loss: 0.4203 - accuracy: 0.7901 - val_loss: 0.4533 - val_accuracy: 0.7716\n"
     ]
    }
   ],
   "source": [
    "model_history = model.fit(X_train, y_train, validation_split=0.33, batch_size = 10, epochs = 100)"
   ]
  },
  {
   "cell_type": "code",
   "execution_count": 74,
   "metadata": {},
   "outputs": [
    {
     "name": "stdout",
     "output_type": "stream",
     "text": [
      "dict_keys(['val_loss', 'val_accuracy', 'loss', 'accuracy'])\n"
     ]
    }
   ],
   "source": [
    "print(model_history.history.keys())"
   ]
  },
  {
   "cell_type": "code",
   "execution_count": 75,
   "metadata": {},
   "outputs": [
    {
     "data": {
      "image/png": "[encoded data removed]",
      "text/plain": [
       "<Figure size 720x504 with 1 Axes>"
      ]
     },
     "metadata": {
      "needs_background": "light"
     },
     "output_type": "display_data"
    }
   ],
   "source": [
    "plt.figure(figsize=(10, 7))\n",
    "plt.plot(model_history.history['accuracy'])\n",
    "plt.plot(model_history.history['val_accuracy'])\n",
    "plt.title('model accuracy')\n",
    "plt.ylabel('accuracy')\n",
    "plt.xlabel('epoch')\n",
    "plt.legend(['train', 'test'], loc='upper left')\n",
    "plt.show()"
   ]
  },
  {
   "cell_type": "code",
   "execution_count": 76,
   "metadata": {},
   "outputs": [
    {
     "data": {
      "image/png": "[encoded data removed]",
      "text/plain": [
       "<Figure size 720x504 with 1 Axes>"
      ]
     },
     "metadata": {
      "needs_background": "light"
     },
     "output_type": "display_data"
    }
   ],
   "source": [
    "plt.figure(figsize=(10, 7))\n",
    "plt.plot(model_history.history['loss'])\n",
    "plt.plot(model_history.history['val_loss'])\n",
    "plt.title('model loss')\n",
    "plt.ylabel('loss')\n",
    "plt.xlabel('epoch')\n",
    "plt.legend(['train', 'test'], loc='upper left')\n",
    "plt.show()"
   ]
  },
  {
   "cell_type": "code",
   "execution_count": 77,
   "metadata": {},
   "outputs": [
    {
     "data": {
      "text/plain": [
       "array([[False],\n",
       "       [ True],\n",
       "       [False],\n",
       "       ...,\n",
       "       [False],\n",
       "       [False],\n",
       "       [False]])"
      ]
     },
     "execution_count": 77,
     "metadata": {},
     "output_type": "execute_result"
    }
   ],
   "source": [
    "y_pred = model.predict(X_test)\n",
    "y_pred = (y_pred > 0.5)\n",
    "y_pred"
   ]
  },
  {
   "cell_type": "code",
   "execution_count": 79,
   "metadata": {},
   "outputs": [
    {
     "data": {
      "text/plain": [
       "array([[744,  89],\n",
       "       [128, 124]])"
      ]
     },
     "execution_count": 79,
     "metadata": {},
     "output_type": "execute_result"
    }
   ],
   "source": [
    "from sklearn.metrics import confusion_matrix\n",
    "cm = confusion_matrix(y_test, y_pred)\n",
    "cm"
   ]
  },
  {
   "cell_type": "code",
   "execution_count": 81,
   "metadata": {},
   "outputs": [
    {
     "data": {
      "text/plain": [
       "0.8"
      ]
     },
     "execution_count": 81,
     "metadata": {},
     "output_type": "execute_result"
    }
   ],
   "source": [
    "from sklearn.metrics import accuracy_score\n",
    "score = accuracy_score(y_test, y_pred)\n",
    "score"
   ]
  },
  {
   "cell_type": "code",
   "execution_count": 82,
   "metadata": {},
   "outputs": [],
   "source": [
    "from keras.wrappers.scikit_learn import KerasClassifier\n",
    "from sklearn.model_selection import GridSearchCV"
   ]
  },
  {
   "cell_type": "code",
   "execution_count": 83,
   "metadata": {},
   "outputs": [],
   "source": [
    "from keras.layers import Dense, Activation, Embedding, Flatten, LeakyReLU, BatchNormalization, Dropout\n",
    "from keras.activations import relu, sigmoid"
   ]
  },
  {
   "cell_type": "code",
   "execution_count": 84,
   "metadata": {},
   "outputs": [],
   "source": [
    "def create_model(layers, activation):\n",
    "    model = Sequential()\n",
    "    for i, nodes in enumerate(layers):\n",
    "        if i == 0:\n",
    "            model.add(Dense(nodes, kernel_initializer = 'he_uniform',activation=activation,input_dim = X_train.shape[1]))\n",
    "            model.add(Dropout(0.1))\n",
    "        else:\n",
    "            model.add(Dense(nodes, kernel_initializer = 'he_uniform',activation=activation))\n",
    "            model.add(Dropout(0.1))\n",
    "            \n",
    "    model.add(Dense(1, kernel_initializer = 'glorot_uniform', activation = 'sigmoid'))\n",
    "    model.compile(optimizer='Adamax', loss='binary_crossentropy', metrics=['accuracy'])\n",
    "    return model"
   ]
  },
  {
   "cell_type": "code",
   "execution_count": 86,
   "metadata": {},
   "outputs": [],
   "source": [
    "model = KerasClassifier(build_fn=create_model, verbose=0)\n",
    "layers = [(6, 3, 3), (10, 10), (45, 30, 15)]\n",
    "activations = ['sigmoid', 'relu']\n",
    "param_grid = dict(layers=layers, activation=activations, batch_size = [128, 256], epochs=[30])\n",
    "grid = GridSearchCV(estimator=model, param_grid=param_grid,cv=5)\n",
    "grid_result = grid.fit(X_train, y_train)"
   ]
  },
  {
   "cell_type": "code",
   "execution_count": 127,
   "metadata": {},
   "outputs": [
    {
     "data": {
      "text/plain": [
       "[0.7874616622924805,\n",
       " {'activation': 'relu',\n",
       "  'batch_size': 256,\n",
       "  'epochs': 30,\n",
       "  'layers': (45, 30, 15)}]"
      ]
     },
     "execution_count": 127,
     "metadata": {},
     "output_type": "execute_result"
    }
   ],
   "source": [
    "[grid_result.best_score_,grid_result.best_params_]"
   ]
  },
  {
   "cell_type": "code",
   "execution_count": null,
   "metadata": {},
   "outputs": [],
   "source": []
  }
 ],
 "metadata": {
  "kernelspec": {
   "display_name": "Python 3",
   "language": "python",
   "name": "python3"
  },
  "language_info": {
   "codemirror_mode": {
    "name": "ipython",
    "version": 3
   },
   "file_extension": ".py",
   "mimetype": "text/x-python",
   "name": "python",
   "nbconvert_exporter": "python",
   "pygments_lexer": "ipython3",
   "version": "3.7.7"
  }
 },
 "nbformat": 4,
 "nbformat_minor": 4
}
