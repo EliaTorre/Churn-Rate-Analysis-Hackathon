{
 "cells": [
  {
   "cell_type": "code",
   "execution_count": 2,
   "metadata": {},
   "outputs": [],
   "source": [
    "import matplotlib.pyplot as plt\n",
    "import pandas as pd\n",
    "import numpy as np\n",
    "from sklearn.preprocessing import OneHotEncoder, OrdinalEncoder, LabelEncoder\n",
    "from sklearn.model_selection import train_test_split\n",
    "from sklearn.linear_model import LogisticRegression\n",
    "from sklearn.metrics import confusion_matrix, f1_score, accuracy_score"
   ]
  },
  {
   "cell_type": "code",
   "execution_count": 11,
   "metadata": {},
   "outputs": [],
   "source": [
    "def preprocessing(dataset): \n",
    "\n",
    "    data = pd.read_csv(dataset)\n",
    "\n",
    "    categorical_features = ['InternetService', 'PaymentMethod', 'OnlineSecurity']\n",
    "    numerical_features = ['MonthlyCharges', 'TotalCharges']\n",
    "    binary_features = ['gender', 'Partner', 'PhoneService', 'Contract']\n",
    "\n",
    "    encoder = OneHotEncoder(sparse=False)\n",
    "    ordinal_encoder = OrdinalEncoder()\n",
    "\n",
    "    cat_features = encoder.fit_transform(data[categorical_features])\n",
    "    bin_features = ordinal_encoder.fit_transform(data[binary_features])\n",
    "    num_features = data[numerical_features].to_numpy()\n",
    "\n",
    "    columns = np.array(encoder.categories_)\n",
    "    binary_cols = np.array(binary_features)\n",
    "    num_cols = np.array(numerical_features)\n",
    "    columns = np.concatenate(tuple(columns))\n",
    "\n",
    "    all_columns = np.concatenate((binary_cols, columns, num_cols))\n",
    "    all_columns[6] = 'NoInternet'\n",
    "    all_columns[-3] = 'OnlineSecurity'\n",
    "\n",
    "    df = np.hstack((bin_features, cat_features, num_features))\n",
    "    frame = pd.DataFrame(df, columns = all_columns)\n",
    "\n",
    "    if 'Churn' in data.columns:\n",
    "        encoder = LabelEncoder()\n",
    "        labels = encoder.fit_transform(data['Churn'])\n",
    "        frame['Churn'] = labels\n",
    "\n",
    "    noisy_columns = frame[['gender', 'No internet service', 'PhoneService', 'OnlineSecurity','Credit card (automatic)', 'Mailed check']]\n",
    "\n",
    "    frame['Bank transfer (automatic)'] = frame['Bank transfer (automatic)'] + frame['Credit card (automatic)']\n",
    "    frame.rename(columns={'Bank transfer (automatic)':'AutomaticPayment'}, inplace=True)\n",
    "    frame.rename(columns={'No': 'NoOnlineSecurity'}, inplace=True)\n",
    "    ads = frame['PhoneService'] + frame['OnlineSecurity']\n",
    "\n",
    "    time = frame['TotalCharges'] / frame['MonthlyCharges']\n",
    "    frame['TotalCharges'] = time\n",
    "    frame.rename(columns={'TotalCharges':'Months'}, inplace=True)\n",
    "\n",
    "    frame.drop(columns=noisy_columns, inplace=True)\n",
    "    frame['AddServices'] = ads\n",
    "\n",
    "    if 'Churn' in data.columns:\n",
    "        labels = frame['Churn'].to_numpy()\n",
    "        frame.drop(columns=['Churn'], inplace=True)\n",
    "    else:\n",
    "        labels = None\n",
    "\n",
    "    df = frame.to_numpy()\n",
    "\n",
    "    return df, labels"
   ]
  },
  {
   "cell_type": "code",
   "execution_count": 2,
   "metadata": {},
   "outputs": [],
   "source": [
    "def algo(dataset):\n",
    "    df, labels = preprocessing(\"BSDS_November.csv\")\n",
    "    xgb = XGBClassifier(n_estimators=44, max_depth=4, min_child_weight=1e-05, gamma=3, learning_rate=0.08367510204081632)\n",
    "    xgb.fit(df,labels)\n",
    "    df2, lables2 = preprocessing(dataset)\n",
    "    predicted = xgb.predict(df2)\n",
    "\n",
    "    return predicted"
   ]
  }
 ],
 "metadata": {
  "kernelspec": {
   "display_name": "Python 3",
   "language": "python",
   "name": "python3"
  },
  "language_info": {
   "codemirror_mode": {
    "name": "ipython",
    "version": 3
   },
   "file_extension": ".py",
   "mimetype": "text/x-python",
   "name": "python",
   "nbconvert_exporter": "python",
   "pygments_lexer": "ipython3",
   "version": "3.7.6"
  }
 },
 "nbformat": 4,
 "nbformat_minor": 4
}
